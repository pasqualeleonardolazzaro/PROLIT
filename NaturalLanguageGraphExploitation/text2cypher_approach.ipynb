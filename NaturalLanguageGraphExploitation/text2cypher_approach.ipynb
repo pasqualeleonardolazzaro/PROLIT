{
 "cells": [
  {
   "cell_type": "code",
   "metadata": {
    "ExecuteTime": {
     "end_time": "2024-08-01T17:46:56.589383Z",
     "start_time": "2024-08-01T17:46:44.867701Z"
    }
   },
   "source": "! pip install -q groq",
   "outputs": [],
   "execution_count": 14
  },
  {
   "cell_type": "code",
   "metadata": {
    "ExecuteTime": {
     "end_time": "2024-08-01T17:47:41.416267Z",
     "start_time": "2024-08-01T17:47:36.754003Z"
    }
   },
   "source": [
    "from groq import Groq\n",
    "\n",
    "\n",
    "client = Groq(api_key='')"
   ],
   "outputs": [
    {
     "name": "stdout",
     "output_type": "stream",
     "text": [
      "ciao\n"
     ]
    }
   ],
   "execution_count": 16
  },
  {
   "cell_type": "code",
   "metadata": {
    "ExecuteTime": {
     "end_time": "2024-08-01T17:47:48.392792Z",
     "start_time": "2024-08-01T17:47:48.345949Z"
    }
   },
   "source": [
    "#! pip install langchain\n",
    "#! pip install langchain_groq\n",
    "from langchain_core.prompts import ChatPromptTemplate\n",
    "from langchain_groq import ChatGroq\n",
    "\n",
    "chat = ChatGroq(temperature=0, groq_api_key='', model_name=\"llama3-70b-8192\")"
   ],
   "outputs": [],
   "execution_count": 17
  },
  {
   "cell_type": "markdown",
   "metadata": {},
   "source": [
    "## Connecting to neo4j + Query Generation"
   ]
  },
  {
   "cell_type": "code",
   "metadata": {
    "ExecuteTime": {
     "end_time": "2024-08-01T17:48:18.347284Z",
     "start_time": "2024-08-01T17:47:53.706406Z"
    }
   },
   "source": [
    "! pip install neo4j\n",
    "! pip install langchain\n",
    "! pip install langchain_community"
   ],
   "outputs": [
    {
     "name": "stdout",
     "output_type": "stream",
     "text": [
      "Requirement already satisfied: neo4j in c:\\users\\paleo\\anaconda3\\lib\\site-packages (5.23.0)\n",
      "Requirement already satisfied: pytz in c:\\users\\paleo\\anaconda3\\lib\\site-packages (from neo4j) (2021.3)\n",
      "Requirement already satisfied: langchain in c:\\users\\paleo\\anaconda3\\lib\\site-packages (0.2.11)\n",
      "Requirement already satisfied: aiohttp<4.0.0,>=3.8.3 in c:\\users\\paleo\\anaconda3\\lib\\site-packages (from langchain) (3.10.0)\n",
      "Requirement already satisfied: tenacity!=8.4.0,<9.0.0,>=8.1.0 in c:\\users\\paleo\\anaconda3\\lib\\site-packages (from langchain) (8.4.2)\n",
      "Requirement already satisfied: langchain-core<0.3.0,>=0.2.23 in c:\\users\\paleo\\anaconda3\\lib\\site-packages (from langchain) (0.2.26)\n",
      "Requirement already satisfied: pydantic<3,>=1 in c:\\users\\paleo\\anaconda3\\lib\\site-packages (from langchain) (2.7.4)\n",
      "Requirement already satisfied: requests<3,>=2 in c:\\users\\paleo\\anaconda3\\lib\\site-packages (from langchain) (2.27.1)\n",
      "Requirement already satisfied: langchain-text-splitters<0.3.0,>=0.2.0 in c:\\users\\paleo\\anaconda3\\lib\\site-packages (from langchain) (0.2.2)\n",
      "Requirement already satisfied: async-timeout<5.0.0,>=4.0.0 in c:\\users\\paleo\\anaconda3\\lib\\site-packages (from langchain) (4.0.1)\n",
      "Requirement already satisfied: SQLAlchemy<3,>=1.4 in c:\\users\\paleo\\anaconda3\\lib\\site-packages (from langchain) (1.4.32)\n",
      "Requirement already satisfied: PyYAML>=5.3 in c:\\users\\paleo\\anaconda3\\lib\\site-packages (from langchain) (6.0)\n",
      "Requirement already satisfied: langsmith<0.2.0,>=0.1.17 in c:\\users\\paleo\\anaconda3\\lib\\site-packages (from langchain) (0.1.82)\n",
      "Requirement already satisfied: numpy<2,>=1 in c:\\users\\paleo\\anaconda3\\lib\\site-packages (from langchain) (1.21.5)\n",
      "Requirement already satisfied: aiosignal>=1.1.2 in c:\\users\\paleo\\anaconda3\\lib\\site-packages (from aiohttp<4.0.0,>=3.8.3->langchain) (1.2.0)\n",
      "Requirement already satisfied: attrs>=17.3.0 in c:\\users\\paleo\\anaconda3\\lib\\site-packages (from aiohttp<4.0.0,>=3.8.3->langchain) (21.4.0)\n",
      "Requirement already satisfied: aiohappyeyeballs>=2.3.0 in c:\\users\\paleo\\anaconda3\\lib\\site-packages (from aiohttp<4.0.0,>=3.8.3->langchain) (2.3.4)\n",
      "Requirement already satisfied: frozenlist>=1.1.1 in c:\\users\\paleo\\anaconda3\\lib\\site-packages (from aiohttp<4.0.0,>=3.8.3->langchain) (1.2.0)\n",
      "Requirement already satisfied: yarl<2.0,>=1.0 in c:\\users\\paleo\\anaconda3\\lib\\site-packages (from aiohttp<4.0.0,>=3.8.3->langchain) (1.6.3)\n",
      "Requirement already satisfied: multidict<7.0,>=4.5 in c:\\users\\paleo\\anaconda3\\lib\\site-packages (from aiohttp<4.0.0,>=3.8.3->langchain) (5.1.0)\n",
      "Requirement already satisfied: typing-extensions>=3.6.5 in c:\\users\\paleo\\anaconda3\\lib\\site-packages (from async-timeout<5.0.0,>=4.0.0->langchain) (4.12.2)\n",
      "Requirement already satisfied: jsonpatch<2.0,>=1.33 in c:\\users\\paleo\\anaconda3\\lib\\site-packages (from langchain-core<0.3.0,>=0.2.23->langchain) (1.33)\n",
      "Requirement already satisfied: packaging<25,>=23.2 in c:\\users\\paleo\\anaconda3\\lib\\site-packages (from langchain-core<0.3.0,>=0.2.23->langchain) (24.1)\n",
      "Requirement already satisfied: jsonpointer>=1.9 in c:\\users\\paleo\\anaconda3\\lib\\site-packages (from jsonpatch<2.0,>=1.33->langchain-core<0.3.0,>=0.2.23->langchain) (3.0.0)\n",
      "Requirement already satisfied: orjson<4.0.0,>=3.9.14 in c:\\users\\paleo\\anaconda3\\lib\\site-packages (from langsmith<0.2.0,>=0.1.17->langchain) (3.10.5)\n",
      "Requirement already satisfied: annotated-types>=0.4.0 in c:\\users\\paleo\\anaconda3\\lib\\site-packages (from pydantic<3,>=1->langchain) (0.7.0)\n",
      "Requirement already satisfied: pydantic-core==2.18.4 in c:\\users\\paleo\\anaconda3\\lib\\site-packages (from pydantic<3,>=1->langchain) (2.18.4)\n",
      "Requirement already satisfied: charset-normalizer~=2.0.0 in c:\\users\\paleo\\anaconda3\\lib\\site-packages (from requests<3,>=2->langchain) (2.0.4)\n",
      "Requirement already satisfied: certifi>=2017.4.17 in c:\\users\\paleo\\anaconda3\\lib\\site-packages (from requests<3,>=2->langchain) (2021.10.8)\n",
      "Requirement already satisfied: urllib3<1.27,>=1.21.1 in c:\\users\\paleo\\anaconda3\\lib\\site-packages (from requests<3,>=2->langchain) (1.26.9)\n",
      "Requirement already satisfied: idna<4,>=2.5 in c:\\users\\paleo\\anaconda3\\lib\\site-packages (from requests<3,>=2->langchain) (3.3)\n",
      "Requirement already satisfied: greenlet!=0.4.17 in c:\\users\\paleo\\anaconda3\\lib\\site-packages (from SQLAlchemy<3,>=1.4->langchain) (1.1.1)\n",
      "Requirement already satisfied: langchain_community in c:\\users\\paleo\\anaconda3\\lib\\site-packages (0.2.10)\n",
      "Requirement already satisfied: langchain-core<0.3.0,>=0.2.23 in c:\\users\\paleo\\anaconda3\\lib\\site-packages (from langchain_community) (0.2.26)\n",
      "Requirement already satisfied: langsmith<0.2.0,>=0.1.0 in c:\\users\\paleo\\anaconda3\\lib\\site-packages (from langchain_community) (0.1.82)\n",
      "Requirement already satisfied: numpy<2,>=1 in c:\\users\\paleo\\anaconda3\\lib\\site-packages (from langchain_community) (1.21.5)\n",
      "Requirement already satisfied: dataclasses-json<0.7,>=0.5.7 in c:\\users\\paleo\\anaconda3\\lib\\site-packages (from langchain_community) (0.6.7)\n",
      "Requirement already satisfied: aiohttp<4.0.0,>=3.8.3 in c:\\users\\paleo\\anaconda3\\lib\\site-packages (from langchain_community) (3.10.0)\n",
      "Requirement already satisfied: SQLAlchemy<3,>=1.4 in c:\\users\\paleo\\anaconda3\\lib\\site-packages (from langchain_community) (1.4.32)\n",
      "Requirement already satisfied: PyYAML>=5.3 in c:\\users\\paleo\\anaconda3\\lib\\site-packages (from langchain_community) (6.0)\n",
      "Requirement already satisfied: tenacity!=8.4.0,<9.0.0,>=8.1.0 in c:\\users\\paleo\\anaconda3\\lib\\site-packages (from langchain_community) (8.4.2)\n",
      "Requirement already satisfied: langchain<0.3.0,>=0.2.9 in c:\\users\\paleo\\anaconda3\\lib\\site-packages (from langchain_community) (0.2.11)\n",
      "Requirement already satisfied: requests<3,>=2 in c:\\users\\paleo\\anaconda3\\lib\\site-packages (from langchain_community) (2.27.1)\n",
      "Requirement already satisfied: aiosignal>=1.1.2 in c:\\users\\paleo\\anaconda3\\lib\\site-packages (from aiohttp<4.0.0,>=3.8.3->langchain_community) (1.2.0)\n",
      "Requirement already satisfied: async-timeout<5.0,>=4.0 in c:\\users\\paleo\\anaconda3\\lib\\site-packages (from aiohttp<4.0.0,>=3.8.3->langchain_community) (4.0.1)\n",
      "Requirement already satisfied: attrs>=17.3.0 in c:\\users\\paleo\\anaconda3\\lib\\site-packages (from aiohttp<4.0.0,>=3.8.3->langchain_community) (21.4.0)\n",
      "Requirement already satisfied: aiohappyeyeballs>=2.3.0 in c:\\users\\paleo\\anaconda3\\lib\\site-packages (from aiohttp<4.0.0,>=3.8.3->langchain_community) (2.3.4)\n",
      "Requirement already satisfied: frozenlist>=1.1.1 in c:\\users\\paleo\\anaconda3\\lib\\site-packages (from aiohttp<4.0.0,>=3.8.3->langchain_community) (1.2.0)\n",
      "Requirement already satisfied: yarl<2.0,>=1.0 in c:\\users\\paleo\\anaconda3\\lib\\site-packages (from aiohttp<4.0.0,>=3.8.3->langchain_community) (1.6.3)\n",
      "Requirement already satisfied: multidict<7.0,>=4.5 in c:\\users\\paleo\\anaconda3\\lib\\site-packages (from aiohttp<4.0.0,>=3.8.3->langchain_community) (5.1.0)\n",
      "Requirement already satisfied: typing-extensions>=3.6.5 in c:\\users\\paleo\\anaconda3\\lib\\site-packages (from async-timeout<5.0,>=4.0->aiohttp<4.0.0,>=3.8.3->langchain_community) (4.12.2)\n",
      "Requirement already satisfied: typing-inspect<1,>=0.4.0 in c:\\users\\paleo\\anaconda3\\lib\\site-packages (from dataclasses-json<0.7,>=0.5.7->langchain_community) (0.9.0)\n",
      "Requirement already satisfied: marshmallow<4.0.0,>=3.18.0 in c:\\users\\paleo\\anaconda3\\lib\\site-packages (from dataclasses-json<0.7,>=0.5.7->langchain_community) (3.21.3)\n",
      "Requirement already satisfied: langchain-text-splitters<0.3.0,>=0.2.0 in c:\\users\\paleo\\anaconda3\\lib\\site-packages (from langchain<0.3.0,>=0.2.9->langchain_community) (0.2.2)\n",
      "Requirement already satisfied: pydantic<3,>=1 in c:\\users\\paleo\\anaconda3\\lib\\site-packages (from langchain<0.3.0,>=0.2.9->langchain_community) (2.7.4)\n",
      "Requirement already satisfied: packaging<25,>=23.2 in c:\\users\\paleo\\anaconda3\\lib\\site-packages (from langchain-core<0.3.0,>=0.2.23->langchain_community) (24.1)\n",
      "Requirement already satisfied: jsonpatch<2.0,>=1.33 in c:\\users\\paleo\\anaconda3\\lib\\site-packages (from langchain-core<0.3.0,>=0.2.23->langchain_community) (1.33)\n",
      "Requirement already satisfied: jsonpointer>=1.9 in c:\\users\\paleo\\anaconda3\\lib\\site-packages (from jsonpatch<2.0,>=1.33->langchain-core<0.3.0,>=0.2.23->langchain_community) (3.0.0)\n",
      "Requirement already satisfied: orjson<4.0.0,>=3.9.14 in c:\\users\\paleo\\anaconda3\\lib\\site-packages (from langsmith<0.2.0,>=0.1.0->langchain_community) (3.10.5)\n",
      "Requirement already satisfied: pydantic-core==2.18.4 in c:\\users\\paleo\\anaconda3\\lib\\site-packages (from pydantic<3,>=1->langchain<0.3.0,>=0.2.9->langchain_community) (2.18.4)\n",
      "Requirement already satisfied: annotated-types>=0.4.0 in c:\\users\\paleo\\anaconda3\\lib\\site-packages (from pydantic<3,>=1->langchain<0.3.0,>=0.2.9->langchain_community) (0.7.0)\n",
      "Requirement already satisfied: charset-normalizer~=2.0.0 in c:\\users\\paleo\\anaconda3\\lib\\site-packages (from requests<3,>=2->langchain_community) (2.0.4)\n",
      "Requirement already satisfied: idna<4,>=2.5 in c:\\users\\paleo\\anaconda3\\lib\\site-packages (from requests<3,>=2->langchain_community) (3.3)\n",
      "Requirement already satisfied: certifi>=2017.4.17 in c:\\users\\paleo\\anaconda3\\lib\\site-packages (from requests<3,>=2->langchain_community) (2021.10.8)\n",
      "Requirement already satisfied: urllib3<1.27,>=1.21.1 in c:\\users\\paleo\\anaconda3\\lib\\site-packages (from requests<3,>=2->langchain_community) (1.26.9)\n",
      "Requirement already satisfied: greenlet!=0.4.17 in c:\\users\\paleo\\anaconda3\\lib\\site-packages (from SQLAlchemy<3,>=1.4->langchain_community) (1.1.1)\n",
      "Requirement already satisfied: mypy-extensions>=0.3.0 in c:\\users\\paleo\\anaconda3\\lib\\site-packages (from typing-inspect<1,>=0.4.0->dataclasses-json<0.7,>=0.5.7->langchain_community) (0.4.3)\n"
     ]
    }
   ],
   "execution_count": 18
  },
  {
   "cell_type": "code",
   "metadata": {
    "ExecuteTime": {
     "end_time": "2024-08-01T17:50:18.994171Z",
     "start_time": "2024-08-01T17:49:41.010728Z"
    }
   },
   "source": [
    "from langchain_community.graphs import Neo4jGraph\n",
    "from langchain.chains import GraphCypherQAChain\n",
    "from langchain.prompts import PromptTemplate\n",
    "from langchain.chains.conversation.memory import ConversationBufferMemory\n",
    "\n",
    "graph = Neo4jGraph(\n",
    "    url=\"bolt://localhost:7687\",\n",
    "    username=\"neo4j\",\n",
    "    password=\"adminadmin\"\n",
    ")\n",
    "\n",
    "CYPHER_GENERATION_TEMPLATE = \"\"\"\n",
    "You are an expert Neo4j Developer translating user questions into Cypher to answer questions about data provenance.\n",
    "Convert the user's question based on the schema.\n",
    "\n",
    "Instructions:\n",
    "Use only the provided relationship types and properties in the schema.\n",
    "Do not use any other relationship types or properties that are not provided.\n",
    "\n",
    "If no data is returned, do not attempt to answer the question.\n",
    "Only respond to questions that require you to construct a Cypher statement.\n",
    "Do not include any explanations or apologies in your responses.\n",
    "\n",
    "Examples:\n",
    "#Find all the entities\n",
    "MATCH (n:Entity) RETURN n\n",
    "\n",
    "#Find all the activities\n",
    "MATCH (n:Activity) RETURN n\n",
    "\n",
    "#Count all communities using louvain on WAS_DERIVED_FROM\n",
    "CALL gds.graph.drop('proj', false)\n",
    "YIELD graphName AS droppedGraph\n",
    "WITH droppedGraph\n",
    "CALL gds.graph.project('proj', ['Activity'], {{ WAS_DERIVED_FROM:{{orientation:'NATURAL'}} }})\n",
    "YIELD graphName AS projectedGraph\n",
    "WITH projectedGraph\n",
    "CALL gds.louvain.mutate('proj', {{mutateProperty:'communityId'}})\n",
    "YIELD communityCount\n",
    "RETURN communityCount AS result\n",
    "\n",
    "Schema: {schema}\n",
    "Question: {question}\n",
    "\"\"\"\n",
    "\n",
    "cypher_generation_prompt = PromptTemplate(\n",
    "    template=CYPHER_GENERATION_TEMPLATE,\n",
    "    input_variables=[\"schema\", \"question\"]\n",
    ")\n",
    "\n",
    "\n",
    "cypher_chain = GraphCypherQAChain.from_llm(\n",
    "    llm=chat,\n",
    "    graph=graph,\n",
    "    cypher_prompt=cypher_generation_prompt,\n",
    "    verbose=True\n",
    ")\n",
    "\n",
    "print(graph.schema)\n",
    "\n",
    "test = True\n",
    "while test:\n",
    "    print(\"\\n\\n Insert your question or type 'exit' to quit:\")\n",
    "    q = input(\"> \")\n",
    "    if q == \"exit\":\n",
    "        test = False\n",
    "        break\n",
    "    response = cypher_chain.invoke({\"query\": q})\n",
    "    print(q)\n",
    "    print(response[\"result\"])"
   ],
   "outputs": [
    {
     "name": "stdout",
     "output_type": "stream",
     "text": [
      "Node properties:\n",
      "Activity {used_features: LIST, function_name: STRING, context: STRING, id: STRING, code: STRING}\n",
      "Column {index: STRING, instance: STRING, value: STRING, id: STRING}\n",
      "Relationship properties:\n",
      "\n",
      "The relationships:\n",
      "(:Activity)-[:USED]->(:Column)\n",
      "(:Activity)-[:NEXT]->(:Activity)\n",
      "(:Column)-[:WAS_INVALIDATED_BY]->(:Activity)\n",
      "(:Column)-[:WAS_DERIVED_FROM]->(:Column)\n",
      "(:Column)-[:WAS_GENERATED_BY]->(:Activity)\n",
      "\n",
      "\n",
      " Insert your question or type 'exit' to quit:\n",
      "\n",
      "\n",
      "\u001B[1m> Entering new GraphCypherQAChain chain...\u001B[0m\n",
      "Generated Cypher:\n",
      "\u001B[32;1m\u001B[1;3mMATCH (n) RETURN count(n)\u001B[0m\n",
      "Full Context:\n",
      "\u001B[32;1m\u001B[1;3m[{'count(n)': 75}]\u001B[0m\n",
      "\n",
      "\u001B[1m> Finished chain.\u001B[0m\n",
      "return the number of nodes\n",
      "The number of nodes is 75.\n",
      "\n",
      "\n",
      " Insert your question or type 'exit' to quit:\n",
      "\n",
      "\n",
      "\u001B[1m> Entering new GraphCypherQAChain chain...\u001B[0m\n",
      "Generated Cypher:\n",
      "\u001B[32;1m\u001B[1;3mMATCH (n:Activity) RETURN count(n)\u001B[0m\n",
      "Full Context:\n",
      "\u001B[32;1m\u001B[1;3m[{'count(n)': 8}]\u001B[0m\n",
      "\n",
      "\u001B[1m> Finished chain.\u001B[0m\n",
      "return the number of activities\n",
      "There are 8 activities.\n",
      "\n",
      "\n",
      " Insert your question or type 'exit' to quit:\n"
     ]
    }
   ],
   "execution_count": 19
  },
  {
   "metadata": {},
   "cell_type": "code",
   "outputs": [],
   "execution_count": null,
   "source": ""
  }
 ],
 "metadata": {
  "kernelspec": {
   "display_name": "Python 3",
   "language": "python",
   "name": "python3"
  },
  "language_info": {
   "codemirror_mode": {
    "name": "ipython",
    "version": 3
   },
   "file_extension": ".py",
   "mimetype": "text/x-python",
   "name": "python",
   "nbconvert_exporter": "python",
   "pygments_lexer": "ipython3",
   "version": "3.10.3"
  }
 },
 "nbformat": 4,
 "nbformat_minor": 2
}
